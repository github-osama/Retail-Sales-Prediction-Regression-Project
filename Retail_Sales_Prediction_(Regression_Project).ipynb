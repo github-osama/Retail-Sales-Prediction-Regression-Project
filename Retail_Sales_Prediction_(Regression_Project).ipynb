{
  "nbformat": 4,
  "nbformat_minor": 0,
  "metadata": {
    "colab": {
      "private_outputs": true,
      "provenance": [],
      "collapsed_sections": [
        "vncDsAP0Gaoa",
        "mDgbUHAGgjLW",
        "O_i_v8NEhb9l",
        "HhfV-JJviCcP",
        "Y3lxredqlCYt",
        "3RnN4peoiCZX",
        "x71ZqKXriCWQ",
        "7hBIi_osiCS2",
        "JlHwYmJAmNHm",
        "35m5QtbWiB9F",
        "PoPl-ycgm1ru",
        "H0kj-8xxnORC",
        "nA9Y7ga8ng1Z",
        "PBTbrJXOngz2",
        "u3PMJOP6ngxN",
        "dauF4eBmngu3",
        "bKJF3rekwFvQ",
        "MSa1f5Uengrz",
        "GF8Ens_Soomf",
        "0wOQAZs5pc--",
        "K5QZ13OEpz2H",
        "lQ7QKXXCp7Bj",
        "448CDAPjqfQr",
        "KSlN3yHqYklG",
        "t6dVpIINYklI",
        "ijmpgYnKYklI",
        "-JiQyfWJYklI",
        "EM7whBJCYoAo",
        "fge-S5ZAYoAp",
        "85gYPyotYoAp",
        "RoGjAbkUYoAp",
        "4Of9eVA-YrdM",
        "iky9q4vBYrdO",
        "F6T5p64dYrdO",
        "y-Ehk30pYrdP",
        "bamQiAODYuh1",
        "QHF8YVU7Yuh3",
        "GwzvFGzlYuh3",
        "qYpmQ266Yuh3",
        "OH-pJp9IphqM",
        "bbFf2-_FphqN",
        "_ouA3fa0phqN",
        "Seke61FWphqN",
        "PIIx-8_IphqN",
        "t27r6nlMphqO",
        "r2jJGEOYphqO",
        "b0JNsNcRphqO",
        "BZR9WyysphqO",
        "jj7wYXLtphqO",
        "eZrbJ2SmphqO",
        "rFu4xreNphqO",
        "YJ55k-q6phqO",
        "gCFgpxoyphqP",
        "OVtJsKN_phqQ",
        "lssrdh5qphqQ",
        "U2RJ9gkRphqQ",
        "1M8mcRywphqQ",
        "tgIPom80phqQ",
        "JMzcOPDDphqR",
        "x-EpHcCOp1ci",
        "X_VqEhTip1ck",
        "8zGJKyg5p1ck",
        "PVzmfK_Ep1ck",
        "n3dbpmDWp1ck",
        "ylSl6qgtp1ck",
        "ZWILFDl5p1ck",
        "M7G43BXep1ck",
        "Ag9LCva-p1cl",
        "E6MkPsBcp1cl",
        "2cELzS2fp1cl",
        "3MPXvC8up1cl",
        "NC_X3p0fY2L0",
        "UV0SzAkaZNRQ",
        "YPEH6qLeZNRQ",
        "q29F0dvdveiT",
        "EXh0U9oCveiU",
        "22aHeOlLveiV",
        "g-ATYxFrGrvw",
        "Yfr_Vlr8HBkt",
        "8yEUt7NnHlrM",
        "tEA2Xm5dHt1r",
        "I79__PHVH19G",
        "Ou-I18pAyIpj",
        "fF3858GYyt-u",
        "4_0_7-oCpUZd",
        "hwyV_J3ipUZe",
        "3yB-zSqbpUZe",
        "dEUvejAfpUZe",
        "Fd15vwWVpUZf",
        "bn_IUdTipZyH",
        "49K5P_iCpZyH",
        "Nff-vKELpZyI",
        "kLW572S8pZyI",
        "dWbDXHzopZyI",
        "yLjJCtPM0KBk",
        "xiyOF9F70UgQ",
        "7wuGOrhz0itI",
        "id1riN9m0vUs",
        "578E2V7j08f6",
        "89xtkJwZ18nB",
        "67NQN5KX2AMe",
        "Iwf50b-R2tYG",
        "GMQiZwjn3iu7",
        "WVIkgGqN3qsr",
        "XkPnILGE3zoT",
        "Hlsf0x5436Go",
        "mT9DMSJo4nBL",
        "c49ITxTc407N",
        "OeJFEK0N496M",
        "9ExmJH0g5HBk",
        "cJNqERVU536h",
        "k5UmGsbsOxih",
        "T0VqWOYE6DLQ",
        "qBMux9mC6MCf",
        "-oLEiFgy-5Pf",
        "C74aWNz2AliB",
        "2DejudWSA-a0",
        "pEMng2IbBLp7",
        "rAdphbQ9Bhjc",
        "TNVZ9zx19K6k",
        "nqoHp30x9hH9",
        "rMDnDkt2B6du",
        "yiiVWRdJDDil",
        "1UUpS68QDMuG",
        "kexQrXU-DjzY",
        "T5CmagL3EC8N",
        "BhH2vgX9EjGr",
        "qjKvONjwE8ra",
        "P1XJ9OREExlT",
        "VFOzZv6IFROw",
        "TIqpNgepFxVj",
        "VfCC591jGiD4",
        "OB4l2ZhMeS1U",
        "ArJBuiUVfxKd",
        "4qY1EAkEfxKe",
        "PiV4Ypx8fxKe",
        "TfvqoZmBfxKf",
        "dJ2tPlVmpsJ0",
        "JWYfwnehpsJ1",
        "-jK_YjpMpsJ2",
        "HAih1iBOpsJ2",
        "zVGeBEFhpsJ2",
        "bmKjuQ-FpsJ3",
        "Fze-IPXLpx6K",
        "7AN1z2sKpx6M",
        "9PIHJqyupx6M",
        "_-qAgymDpx6N",
        "Z-hykwinpx6N",
        "h_CCil-SKHpo",
        "cBFFvTBNJzUa",
        "HvGl1hHyA_VK",
        "EyNgTHvd2WFk",
        "KH5McJBi2d8v",
        "iW_Lq9qf2h6X",
        "-Kee-DAl2viO",
        "gCX9965dhzqZ",
        "gIfDvo9L0UH2"
      ],
      "gpuType": "T4",
      "include_colab_link": true
    },
    "kernelspec": {
      "name": "python3",
      "display_name": "Python 3"
    },
    "language_info": {
      "name": "python"
    },
    "accelerator": "GPU"
  },
  "cells": [
    {
      "cell_type": "markdown",
      "metadata": {
        "id": "view-in-github",
        "colab_type": "text"
      },
      "source": [
        "<a href=\"https://colab.research.google.com/github/me-osama/Retail-Sales-Prediction-Regression-Project/blob/main/Retail_Sales_Prediction_(Regression_Project).ipynb\" target=\"_parent\"><img src=\"https://colab.research.google.com/assets/colab-badge.svg\" alt=\"Open In Colab\"/></a>"
      ]
    },
    {
      "cell_type": "markdown",
      "source": [
        "![image.png](data:image/png;base64,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)"
      ],
      "metadata": {
        "id": "iR3C5WZHlZwW"
      }
    },
    {
      "cell_type": "markdown",
      "source": [
        "# **Project Name**    - Retail Sales Prediction (Regression)"
      ],
      "metadata": {
        "id": "vncDsAP0Gaoa"
      }
    },
    {
      "cell_type": "markdown",
      "source": [
        "##### **Project Type**    - Regression\n",
        "##### **Contribution**    - Individual\n",
        "##### **Name** - Md Osama"
      ],
      "metadata": {
        "id": "beRrZCGUAJYm"
      }
    },
    {
      "cell_type": "markdown",
      "source": [
        "# **Project Summary -**"
      ],
      "metadata": {
        "id": "FJNUwmbgGyua"
      }
    },
    {
      "cell_type": "markdown",
      "source": [
        "Rossmann, a company operating a network of over 3,000 drug stores across 7 European countries, faces the challenge of accurately predicting daily sales for up to six weeks in advance. Numerous factors contribute to the variability of store sales, such as promotions, competition, school and state holidays, seasonality, and locality. Each Rossmann store manager relies on their unique circumstances to forecast sales, resulting in varying levels of accuracy.\n",
        "\n",
        "To address this issue, historical sales data for 1,115 Rossmann stores is provided. The objective is to forecast the \"Sales\" column for the test set, taking into account that certain stores in the dataset were temporarily closed for refurbishment."
      ],
      "metadata": {
        "id": "F6v_1wHtG2nS"
      }
    },
    {
      "cell_type": "markdown",
      "source": [
        "# **GitHub Link -**"
      ],
      "metadata": {
        "id": "w6K7xa23Elo4"
      }
    },
    {
      "cell_type": "markdown",
      "source": [
        "Provide your GitHub Link here."
      ],
      "metadata": {
        "id": "h1o69JH3Eqqn"
      }
    },
    {
      "cell_type": "markdown",
      "source": [
        "# **Problem Statement**\n"
      ],
      "metadata": {
        "id": "yQaldy8SH6Dl"
      }
    },
    {
      "cell_type": "markdown",
      "source": [
        "**Rossmann operates an extensive network of drug stores spanning across 7 European countries, totaling more than 3,000 locations. The current responsibility assigned to Rossmann store managers entails predicting the daily sales for a period of up to six weeks in advance. The sales of these stores are influenced by a multitude of factors, which include promotions, competition, school and state holidays, seasonality, and the specific locality in which each store is situated. Due to the unique circumstances faced by individual managers, who number in the thousands, the accuracy of their sales predictions can exhibit considerable variation.**\n",
        "\n",
        "**As part of this task, you have been granted access to historical sales data pertaining to 1,115 Rossmann stores. Your objective is to forecast the \"Sales\" column for the test set. It is important to note that certain stores within the dataset were temporarily closed for refurbishment.**"
      ],
      "metadata": {
        "id": "DpeJGUA3kjGy"
      }
    },
    {
      "cell_type": "markdown",
      "source": [
        "# **General Guidelines** : -  "
      ],
      "metadata": {
        "id": "mDgbUHAGgjLW"
      }
    },
    {
      "cell_type": "markdown",
      "source": [
        "1.   Well-structured, formatted, and commented code is required. \n",
        "2.   Exception Handling, Production Grade Code & Deployment Ready Code will be a plus. Those students will be awarded some additional credits. \n",
        "     \n",
        "     The additional credits will have advantages over other students during Star Student selection.\n",
        "       \n",
        "             [ Note: - Deployment Ready Code is defined as, the whole .ipynb notebook should be executable in one go\n",
        "                       without a single error logged. ]\n",
        "\n",
        "3.   Each and every logic should have proper comments.\n",
        "4. You may add as many number of charts you want. Make Sure for each and every chart the following format should be answered.\n",
        "        \n",
        "\n",
        "```\n",
        "# Chart visualization code\n",
        "```\n",
        "            \n",
        "\n",
        "*   Why did you pick the specific chart?\n",
        "*   What is/are the insight(s) found from the chart?\n",
        "* Will the gained insights help creating a positive business impact? \n",
        "Are there any insights that lead to negative growth? Justify with specific reason.\n",
        "\n",
        "5. You have to create at least 15 logical & meaningful charts having important insights.\n",
        "\n",
        "\n",
        "[ Hints : - Do the Vizualization in  a structured way while following \"UBM\" Rule. \n",
        "\n",
        "U - Univariate Analysis,\n",
        "\n",
        "B - Bivariate Analysis (Numerical - Categorical, Numerical - Numerical, Categorical - Categorical)\n",
        "\n",
        "M - Multivariate Analysis\n",
        " ]\n",
        "\n",
        "\n",
        "\n",
        "\n",
        "\n",
        "6. You may add more ml algorithms for model creation. Make sure for each and every algorithm, the following format should be answered.\n",
        "\n",
        "\n",
        "*   Explain the ML Model used and it's performance using Evaluation metric Score Chart.\n",
        "\n",
        "\n",
        "*   Cross- Validation & Hyperparameter Tuning\n",
        "\n",
        "*   Have you seen any improvement? Note down the improvement with updates Evaluation metric Score Chart.\n",
        "\n",
        "*   Explain each evaluation metric's indication towards business and the business impact pf the ML model used.\n",
        "\n",
        "\n",
        "\n",
        "\n",
        "\n",
        "\n",
        "\n",
        "\n",
        "\n",
        "\n",
        "\n",
        "\n",
        "\n",
        "\n",
        "\n",
        "\n",
        "\n",
        "\n"
      ],
      "metadata": {
        "id": "ZrxVaUj-hHfC"
      }
    },
    {
      "cell_type": "markdown",
      "source": [
        "# ***Let's Begin !***"
      ],
      "metadata": {
        "id": "O_i_v8NEhb9l"
      }
    },
    {
      "cell_type": "markdown",
      "source": [
        "## ***1. Know Your Data***"
      ],
      "metadata": {
        "id": "HhfV-JJviCcP"
      }
    },
    {
      "cell_type": "markdown",
      "source": [
        "### Import Libraries"
      ],
      "metadata": {
        "id": "Y3lxredqlCYt"
      }
    },
    {
      "cell_type": "code",
      "source": [
        "# Import Libraries"
      ],
      "metadata": {
        "id": "M8Vqi-pPk-HR"
      },
      "execution_count": null,
      "outputs": []
    },
    {
      "cell_type": "markdown",
      "source": [
        "### Dataset Loading"
      ],
      "metadata": {
        "id": "3RnN4peoiCZX"
      }
    },
    {
      "cell_type": "code",
      "source": [
        "# Load Dataset"
      ],
      "metadata": {
        "id": "4CkvbW_SlZ_R"
      },
      "execution_count": null,
      "outputs": []
    },
    {
      "cell_type": "markdown",
      "source": [
        "### Dataset First View"
      ],
      "metadata": {
        "id": "x71ZqKXriCWQ"
      }
    },
    {
      "cell_type": "code",
      "source": [
        "# Dataset First Look"
      ],
      "metadata": {
        "id": "LWNFOSvLl09H"
      },
      "execution_count": null,
      "outputs": []
    },
    {
      "cell_type": "markdown",
      "source": [
        "### Dataset Rows & Columns count"
      ],
      "metadata": {
        "id": "7hBIi_osiCS2"
      }
    },
    {
      "cell_type": "code",
      "source": [
        "# Dataset Rows & Columns count"
      ],
      "metadata": {
        "id": "Kllu7SJgmLij"
      },
      "execution_count": null,
      "outputs": []
    },
    {
      "cell_type": "markdown",
      "source": [
        "### Dataset Information"
      ],
      "metadata": {
        "id": "JlHwYmJAmNHm"
      }
    },
    {
      "cell_type": "code",
      "source": [
        "# Dataset Info"
      ],
      "metadata": {
        "id": "e9hRXRi6meOf"
      },
      "execution_count": null,
      "outputs": []
    },
    {
      "cell_type": "markdown",
      "source": [
        "#### Duplicate Values"
      ],
      "metadata": {
        "id": "35m5QtbWiB9F"
      }
    },
    {
      "cell_type": "code",
      "source": [
        "# Dataset Duplicate Value Count"
      ],
      "metadata": {
        "id": "1sLdpKYkmox0"
      },
      "execution_count": null,
      "outputs": []
    },
    {
      "cell_type": "markdown",
      "source": [
        "#### Missing Values/Null Values"
      ],
      "metadata": {
        "id": "PoPl-ycgm1ru"
      }
    },
    {
      "cell_type": "code",
      "source": [
        "# Missing Values/Null Values Count"
      ],
      "metadata": {
        "id": "GgHWkxvamxVg"
      },
      "execution_count": null,
      "outputs": []
    },
    {
      "cell_type": "code",
      "source": [
        "# Visualizing the missing values"
      ],
      "metadata": {
        "id": "3q5wnI3om9sJ"
      },
      "execution_count": null,
      "outputs": []
    },
    {
      "cell_type": "markdown",
      "source": [
        "### What did you know about your dataset?"
      ],
      "metadata": {
        "id": "H0kj-8xxnORC"
      }
    },
    {
      "cell_type": "markdown",
      "source": [
        "Answer Here"
      ],
      "metadata": {
        "id": "gfoNAAC-nUe_"
      }
    },
    {
      "cell_type": "markdown",
      "source": [
        "## ***2. Understanding Your Variables***"
      ],
      "metadata": {
        "id": "nA9Y7ga8ng1Z"
      }
    },
    {
      "cell_type": "code",
      "source": [
        "# Dataset Columns"
      ],
      "metadata": {
        "id": "j7xfkqrt5Ag5"
      },
      "execution_count": null,
      "outputs": []
    },
    {
      "cell_type": "code",
      "source": [
        "# Dataset Describe"
      ],
      "metadata": {
        "id": "DnOaZdaE5Q5t"
      },
      "execution_count": null,
      "outputs": []
    },
    {
      "cell_type": "markdown",
      "source": [
        "### Variables Description "
      ],
      "metadata": {
        "id": "PBTbrJXOngz2"
      }
    },
    {
      "cell_type": "markdown",
      "source": [
        "Answer Here"
      ],
      "metadata": {
        "id": "aJV4KIxSnxay"
      }
    },
    {
      "cell_type": "markdown",
      "source": [
        "### Check Unique Values for each variable."
      ],
      "metadata": {
        "id": "u3PMJOP6ngxN"
      }
    },
    {
      "cell_type": "code",
      "source": [
        "# Check Unique Values for each variable."
      ],
      "metadata": {
        "id": "zms12Yq5n-jE"
      },
      "execution_count": null,
      "outputs": []
    },
    {
      "cell_type": "markdown",
      "source": [
        "## 3. ***Data Wrangling***"
      ],
      "metadata": {
        "id": "dauF4eBmngu3"
      }
    },
    {
      "cell_type": "markdown",
      "source": [
        "### Data Wrangling Code"
      ],
      "metadata": {
        "id": "bKJF3rekwFvQ"
      }
    },
    {
      "cell_type": "code",
      "source": [
        "# Write your code to make your dataset analysis ready."
      ],
      "metadata": {
        "id": "wk-9a2fpoLcV"
      },
      "execution_count": null,
      "outputs": []
    },
    {
      "cell_type": "markdown",
      "source": [
        "### What all manipulations have you done and insights you found?"
      ],
      "metadata": {
        "id": "MSa1f5Uengrz"
      }
    },
    {
      "cell_type": "markdown",
      "source": [
        "Answer Here."
      ],
      "metadata": {
        "id": "LbyXE7I1olp8"
      }
    },
    {
      "cell_type": "markdown",
      "source": [
        "## ***4. Data Vizualization, Storytelling & Experimenting with charts : Understand the relationships between variables***"
      ],
      "metadata": {
        "id": "GF8Ens_Soomf"
      }
    },
    {
      "cell_type": "markdown",
      "source": [
        "#### Chart - 1"
      ],
      "metadata": {
        "id": "0wOQAZs5pc--"
      }
    },
    {
      "cell_type": "code",
      "source": [
        "# Chart - 1 visualization code"
      ],
      "metadata": {
        "id": "7v_ESjsspbW7"
      },
      "execution_count": null,
      "outputs": []
    },
    {
      "cell_type": "markdown",
      "source": [
        "##### 1. Why did you pick the specific chart?"
      ],
      "metadata": {
        "id": "K5QZ13OEpz2H"
      }
    },
    {
      "cell_type": "markdown",
      "source": [
        "Answer Here."
      ],
      "metadata": {
        "id": "XESiWehPqBRc"
      }
    },
    {
      "cell_type": "markdown",
      "source": [
        "##### 2. What is/are the insight(s) found from the chart?"
      ],
      "metadata": {
        "id": "lQ7QKXXCp7Bj"
      }
    },
    {
      "cell_type": "markdown",
      "source": [
        "Answer Here"
      ],
      "metadata": {
        "id": "C_j1G7yiqdRP"
      }
    },
    {
      "cell_type": "markdown",
      "source": [
        "##### 3. Will the gained insights help creating a positive business impact? \n",
        "Are there any insights that lead to negative growth? Justify with specific reason."
      ],
      "metadata": {
        "id": "448CDAPjqfQr"
      }
    },
    {
      "cell_type": "markdown",
      "source": [
        "Answer Here"
      ],
      "metadata": {
        "id": "3cspy4FjqxJW"
      }
    },
    {
      "cell_type": "markdown",
      "source": [
        "#### Chart - 2"
      ],
      "metadata": {
        "id": "KSlN3yHqYklG"
      }
    },
    {
      "cell_type": "code",
      "source": [
        "# Chart - 2 visualization code"
      ],
      "metadata": {
        "id": "R4YgtaqtYklH"
      },
      "execution_count": null,
      "outputs": []
    },
    {
      "cell_type": "markdown",
      "source": [
        "##### 1. Why did you pick the specific chart?"
      ],
      "metadata": {
        "id": "t6dVpIINYklI"
      }
    },
    {
      "cell_type": "markdown",
      "source": [
        "Answer Here."
      ],
      "metadata": {
        "id": "5aaW0BYyYklI"
      }
    },
    {
      "cell_type": "markdown",
      "source": [
        "##### 2. What is/are the insight(s) found from the chart?"
      ],
      "metadata": {
        "id": "ijmpgYnKYklI"
      }
    },
    {
      "cell_type": "markdown",
      "source": [
        "Answer Here"
      ],
      "metadata": {
        "id": "PSx9atu2YklI"
      }
    },
    {
      "cell_type": "markdown",
      "source": [
        "##### 3. Will the gained insights help creating a positive business impact? \n",
        "Are there any insights that lead to negative growth? Justify with specific reason."
      ],
      "metadata": {
        "id": "-JiQyfWJYklI"
      }
    },
    {
      "cell_type": "markdown",
      "source": [
        "Answer Here"
      ],
      "metadata": {
        "id": "BcBbebzrYklV"
      }
    },
    {
      "cell_type": "markdown",
      "source": [
        "#### Chart - 3"
      ],
      "metadata": {
        "id": "EM7whBJCYoAo"
      }
    },
    {
      "cell_type": "code",
      "source": [
        "# Chart - 3 visualization code"
      ],
      "metadata": {
        "id": "t6GMdE67YoAp"
      },
      "execution_count": null,
      "outputs": []
    },
    {
      "cell_type": "markdown",
      "source": [
        "##### 1. Why did you pick the specific chart?"
      ],
      "metadata": {
        "id": "fge-S5ZAYoAp"
      }
    },
    {
      "cell_type": "markdown",
      "source": [
        "Answer Here."
      ],
      "metadata": {
        "id": "5dBItgRVYoAp"
      }
    },
    {
      "cell_type": "markdown",
      "source": [
        "##### 2. What is/are the insight(s) found from the chart?"
      ],
      "metadata": {
        "id": "85gYPyotYoAp"
      }
    },
    {
      "cell_type": "markdown",
      "source": [
        "Answer Here"
      ],
      "metadata": {
        "id": "4jstXR6OYoAp"
      }
    },
    {
      "cell_type": "markdown",
      "source": [
        "##### 3. Will the gained insights help creating a positive business impact? \n",
        "Are there any insights that lead to negative growth? Justify with specific reason."
      ],
      "metadata": {
        "id": "RoGjAbkUYoAp"
      }
    },
    {
      "cell_type": "markdown",
      "source": [
        "Answer Here"
      ],
      "metadata": {
        "id": "zfJ8IqMcYoAp"
      }
    },
    {
      "cell_type": "markdown",
      "source": [
        "#### Chart - 4"
      ],
      "metadata": {
        "id": "4Of9eVA-YrdM"
      }
    },
    {
      "cell_type": "code",
      "source": [
        "# Chart - 4 visualization code"
      ],
      "metadata": {
        "id": "irlUoxc8YrdO"
      },
      "execution_count": null,
      "outputs": []
    },
    {
      "cell_type": "markdown",
      "source": [
        "##### 1. Why did you pick the specific chart?"
      ],
      "metadata": {
        "id": "iky9q4vBYrdO"
      }
    },
    {
      "cell_type": "markdown",
      "source": [
        "Answer Here."
      ],
      "metadata": {
        "id": "aJRCwT6DYrdO"
      }
    },
    {
      "cell_type": "markdown",
      "source": [
        "##### 2. What is/are the insight(s) found from the chart?"
      ],
      "metadata": {
        "id": "F6T5p64dYrdO"
      }
    },
    {
      "cell_type": "markdown",
      "source": [
        "Answer Here"
      ],
      "metadata": {
        "id": "Xx8WAJvtYrdO"
      }
    },
    {
      "cell_type": "markdown",
      "source": [
        "##### 3. Will the gained insights help creating a positive business impact? \n",
        "Are there any insights that lead to negative growth? Justify with specific reason."
      ],
      "metadata": {
        "id": "y-Ehk30pYrdP"
      }
    },
    {
      "cell_type": "markdown",
      "source": [
        "Answer Here"
      ],
      "metadata": {
        "id": "jLNxxz7MYrdP"
      }
    },
    {
      "cell_type": "markdown",
      "source": [
        "#### Chart - 5"
      ],
      "metadata": {
        "id": "bamQiAODYuh1"
      }
    },
    {
      "cell_type": "code",
      "source": [
        "# Chart - 5 visualization code"
      ],
      "metadata": {
        "id": "TIJwrbroYuh3"
      },
      "execution_count": null,
      "outputs": []
    },
    {
      "cell_type": "markdown",
      "source": [
        "##### 1. Why did you pick the specific chart?"
      ],
      "metadata": {
        "id": "QHF8YVU7Yuh3"
      }
    },
    {
      "cell_type": "markdown",
      "source": [
        "Answer Here."
      ],
      "metadata": {
        "id": "dcxuIMRPYuh3"
      }
    },
    {
      "cell_type": "markdown",
      "source": [
        "##### 2. What is/are the insight(s) found from the chart?"
      ],
      "metadata": {
        "id": "GwzvFGzlYuh3"
      }
    },
    {
      "cell_type": "markdown",
      "source": [
        "Answer Here"
      ],
      "metadata": {
        "id": "uyqkiB8YYuh3"
      }
    },
    {
      "cell_type": "markdown",
      "source": [
        "##### 3. Will the gained insights help creating a positive business impact? \n",
        "Are there any insights that lead to negative growth? Justify with specific reason."
      ],
      "metadata": {
        "id": "qYpmQ266Yuh3"
      }
    },
    {
      "cell_type": "markdown",
      "source": [
        "Answer Here"
      ],
      "metadata": {
        "id": "_WtzZ_hCYuh4"
      }
    },
    {
      "cell_type": "markdown",
      "source": [
        "#### Chart - 6"
      ],
      "metadata": {
        "id": "OH-pJp9IphqM"
      }
    },
    {
      "cell_type": "code",
      "source": [
        "# Chart - 6 visualization code"
      ],
      "metadata": {
        "id": "kuRf4wtuphqN"
      },
      "execution_count": null,
      "outputs": []
    },
    {
      "cell_type": "markdown",
      "source": [
        "##### 1. Why did you pick the specific chart?"
      ],
      "metadata": {
        "id": "bbFf2-_FphqN"
      }
    },
    {
      "cell_type": "markdown",
      "source": [
        "Answer Here."
      ],
      "metadata": {
        "id": "loh7H2nzphqN"
      }
    },
    {
      "cell_type": "markdown",
      "source": [
        "##### 2. What is/are the insight(s) found from the chart?"
      ],
      "metadata": {
        "id": "_ouA3fa0phqN"
      }
    },
    {
      "cell_type": "markdown",
      "source": [
        "Answer Here"
      ],
      "metadata": {
        "id": "VECbqPI7phqN"
      }
    },
    {
      "cell_type": "markdown",
      "source": [
        "##### 3. Will the gained insights help creating a positive business impact? \n",
        "Are there any insights that lead to negative growth? Justify with specific reason."
      ],
      "metadata": {
        "id": "Seke61FWphqN"
      }
    },
    {
      "cell_type": "markdown",
      "source": [
        "Answer Here"
      ],
      "metadata": {
        "id": "DW4_bGpfphqN"
      }
    },
    {
      "cell_type": "markdown",
      "source": [
        "#### Chart - 7"
      ],
      "metadata": {
        "id": "PIIx-8_IphqN"
      }
    },
    {
      "cell_type": "code",
      "source": [
        "# Chart - 7 visualization code"
      ],
      "metadata": {
        "id": "lqAIGUfyphqO"
      },
      "execution_count": null,
      "outputs": []
    },
    {
      "cell_type": "markdown",
      "source": [
        "##### 1. Why did you pick the specific chart?"
      ],
      "metadata": {
        "id": "t27r6nlMphqO"
      }
    },
    {
      "cell_type": "markdown",
      "source": [
        "Answer Here."
      ],
      "metadata": {
        "id": "iv6ro40sphqO"
      }
    },
    {
      "cell_type": "markdown",
      "source": [
        "##### 2. What is/are the insight(s) found from the chart?"
      ],
      "metadata": {
        "id": "r2jJGEOYphqO"
      }
    },
    {
      "cell_type": "markdown",
      "source": [
        "Answer Here"
      ],
      "metadata": {
        "id": "Po6ZPi4hphqO"
      }
    },
    {
      "cell_type": "markdown",
      "source": [
        "##### 3. Will the gained insights help creating a positive business impact? \n",
        "Are there any insights that lead to negative growth? Justify with specific reason."
      ],
      "metadata": {
        "id": "b0JNsNcRphqO"
      }
    },
    {
      "cell_type": "markdown",
      "source": [
        "Answer Here"
      ],
      "metadata": {
        "id": "xvSq8iUTphqO"
      }
    },
    {
      "cell_type": "markdown",
      "source": [
        "#### Chart - 8"
      ],
      "metadata": {
        "id": "BZR9WyysphqO"
      }
    },
    {
      "cell_type": "code",
      "source": [
        "# Chart - 8 visualization code"
      ],
      "metadata": {
        "id": "TdPTWpAVphqO"
      },
      "execution_count": null,
      "outputs": []
    },
    {
      "cell_type": "markdown",
      "source": [
        "##### 1. Why did you pick the specific chart?"
      ],
      "metadata": {
        "id": "jj7wYXLtphqO"
      }
    },
    {
      "cell_type": "markdown",
      "source": [
        "Answer Here."
      ],
      "metadata": {
        "id": "Ob8u6rCTphqO"
      }
    },
    {
      "cell_type": "markdown",
      "source": [
        "##### 2. What is/are the insight(s) found from the chart?"
      ],
      "metadata": {
        "id": "eZrbJ2SmphqO"
      }
    },
    {
      "cell_type": "markdown",
      "source": [
        "Answer Here"
      ],
      "metadata": {
        "id": "mZtgC_hjphqO"
      }
    },
    {
      "cell_type": "markdown",
      "source": [
        "##### 3. Will the gained insights help creating a positive business impact? \n",
        "Are there any insights that lead to negative growth? Justify with specific reason."
      ],
      "metadata": {
        "id": "rFu4xreNphqO"
      }
    },
    {
      "cell_type": "markdown",
      "source": [
        "Answer Here"
      ],
      "metadata": {
        "id": "ey_0qi68phqO"
      }
    },
    {
      "cell_type": "markdown",
      "source": [
        "#### Chart - 9"
      ],
      "metadata": {
        "id": "YJ55k-q6phqO"
      }
    },
    {
      "cell_type": "code",
      "source": [
        "# Chart - 9 visualization code"
      ],
      "metadata": {
        "id": "B2aS4O1ophqO"
      },
      "execution_count": null,
      "outputs": []
    },
    {
      "cell_type": "markdown",
      "source": [
        "##### 1. Why did you pick the specific chart?"
      ],
      "metadata": {
        "id": "gCFgpxoyphqP"
      }
    },
    {
      "cell_type": "markdown",
      "source": [
        "Answer Here."
      ],
      "metadata": {
        "id": "TVxDimi2phqP"
      }
    },
    {
      "cell_type": "markdown",
      "source": [
        "##### 2. What is/are the insight(s) found from the chart?"
      ],
      "metadata": {
        "id": "OVtJsKN_phqQ"
      }
    },
    {
      "cell_type": "markdown",
      "source": [
        "Answer Here"
      ],
      "metadata": {
        "id": "ngGi97qjphqQ"
      }
    },
    {
      "cell_type": "markdown",
      "source": [
        "##### 3. Will the gained insights help creating a positive business impact? \n",
        "Are there any insights that lead to negative growth? Justify with specific reason."
      ],
      "metadata": {
        "id": "lssrdh5qphqQ"
      }
    },
    {
      "cell_type": "markdown",
      "source": [
        "Answer Here"
      ],
      "metadata": {
        "id": "tBpY5ekJphqQ"
      }
    },
    {
      "cell_type": "markdown",
      "source": [
        "#### Chart - 10"
      ],
      "metadata": {
        "id": "U2RJ9gkRphqQ"
      }
    },
    {
      "cell_type": "code",
      "source": [
        "# Chart - 10 visualization code"
      ],
      "metadata": {
        "id": "GM7a4YP4phqQ"
      },
      "execution_count": null,
      "outputs": []
    },
    {
      "cell_type": "markdown",
      "source": [
        "##### 1. Why did you pick the specific chart?"
      ],
      "metadata": {
        "id": "1M8mcRywphqQ"
      }
    },
    {
      "cell_type": "markdown",
      "source": [
        "Answer Here."
      ],
      "metadata": {
        "id": "8agQvks0phqQ"
      }
    },
    {
      "cell_type": "markdown",
      "source": [
        "##### 2. What is/are the insight(s) found from the chart?"
      ],
      "metadata": {
        "id": "tgIPom80phqQ"
      }
    },
    {
      "cell_type": "markdown",
      "source": [
        "Answer Here"
      ],
      "metadata": {
        "id": "Qp13pnNzphqQ"
      }
    },
    {
      "cell_type": "markdown",
      "source": [
        "##### 3. Will the gained insights help creating a positive business impact? \n",
        "Are there any insights that lead to negative growth? Justify with specific reason."
      ],
      "metadata": {
        "id": "JMzcOPDDphqR"
      }
    },
    {
      "cell_type": "markdown",
      "source": [
        "Answer Here"
      ],
      "metadata": {
        "id": "R4Ka1PC2phqR"
      }
    },
    {
      "cell_type": "markdown",
      "source": [
        "#### Chart - 11"
      ],
      "metadata": {
        "id": "x-EpHcCOp1ci"
      }
    },
    {
      "cell_type": "code",
      "source": [
        "# Chart - 11 visualization code"
      ],
      "metadata": {
        "id": "mAQTIvtqp1cj"
      },
      "execution_count": null,
      "outputs": []
    },
    {
      "cell_type": "markdown",
      "source": [
        "##### 1. Why did you pick the specific chart?"
      ],
      "metadata": {
        "id": "X_VqEhTip1ck"
      }
    },
    {
      "cell_type": "markdown",
      "source": [
        "Answer Here."
      ],
      "metadata": {
        "id": "-vsMzt_np1ck"
      }
    },
    {
      "cell_type": "markdown",
      "source": [
        "##### 2. What is/are the insight(s) found from the chart?"
      ],
      "metadata": {
        "id": "8zGJKyg5p1ck"
      }
    },
    {
      "cell_type": "markdown",
      "source": [
        "Answer Here"
      ],
      "metadata": {
        "id": "ZYdMsrqVp1ck"
      }
    },
    {
      "cell_type": "markdown",
      "source": [
        "##### 3. Will the gained insights help creating a positive business impact? \n",
        "Are there any insights that lead to negative growth? Justify with specific reason."
      ],
      "metadata": {
        "id": "PVzmfK_Ep1ck"
      }
    },
    {
      "cell_type": "markdown",
      "source": [
        "Answer Here"
      ],
      "metadata": {
        "id": "druuKYZpp1ck"
      }
    },
    {
      "cell_type": "markdown",
      "source": [
        "#### Chart - 12"
      ],
      "metadata": {
        "id": "n3dbpmDWp1ck"
      }
    },
    {
      "cell_type": "code",
      "source": [
        "# Chart - 12 visualization code"
      ],
      "metadata": {
        "id": "bwevp1tKp1ck"
      },
      "execution_count": null,
      "outputs": []
    },
    {
      "cell_type": "markdown",
      "source": [
        "##### 1. Why did you pick the specific chart?"
      ],
      "metadata": {
        "id": "ylSl6qgtp1ck"
      }
    },
    {
      "cell_type": "markdown",
      "source": [
        "Answer Here."
      ],
      "metadata": {
        "id": "m2xqNkiQp1ck"
      }
    },
    {
      "cell_type": "markdown",
      "source": [
        "##### 2. What is/are the insight(s) found from the chart?"
      ],
      "metadata": {
        "id": "ZWILFDl5p1ck"
      }
    },
    {
      "cell_type": "markdown",
      "source": [
        "Answer Here"
      ],
      "metadata": {
        "id": "x-lUsV2mp1ck"
      }
    },
    {
      "cell_type": "markdown",
      "source": [
        "##### 3. Will the gained insights help creating a positive business impact? \n",
        "Are there any insights that lead to negative growth? Justify with specific reason."
      ],
      "metadata": {
        "id": "M7G43BXep1ck"
      }
    },
    {
      "cell_type": "markdown",
      "source": [
        "Answer Here"
      ],
      "metadata": {
        "id": "5wwDJXsLp1cl"
      }
    },
    {
      "cell_type": "markdown",
      "source": [
        "#### Chart - 13"
      ],
      "metadata": {
        "id": "Ag9LCva-p1cl"
      }
    },
    {
      "cell_type": "code",
      "source": [
        "# Chart - 13 visualization code"
      ],
      "metadata": {
        "id": "EUfxeq9-p1cl"
      },
      "execution_count": null,
      "outputs": []
    },
    {
      "cell_type": "markdown",
      "source": [
        "##### 1. Why did you pick the specific chart?"
      ],
      "metadata": {
        "id": "E6MkPsBcp1cl"
      }
    },
    {
      "cell_type": "markdown",
      "source": [
        "Answer Here."
      ],
      "metadata": {
        "id": "V22bRsFWp1cl"
      }
    },
    {
      "cell_type": "markdown",
      "source": [
        "##### 2. What is/are the insight(s) found from the chart?"
      ],
      "metadata": {
        "id": "2cELzS2fp1cl"
      }
    },
    {
      "cell_type": "markdown",
      "source": [
        "Answer Here"
      ],
      "metadata": {
        "id": "ozQPc2_Ip1cl"
      }
    },
    {
      "cell_type": "markdown",
      "source": [
        "##### 3. Will the gained insights help creating a positive business impact? \n",
        "Are there any insights that lead to negative growth? Justify with specific reason."
      ],
      "metadata": {
        "id": "3MPXvC8up1cl"
      }
    },
    {
      "cell_type": "markdown",
      "source": [
        "Answer Here"
      ],
      "metadata": {
        "id": "GL8l1tdLp1cl"
      }
    },
    {
      "cell_type": "markdown",
      "source": [
        "#### Chart - 14 - Correlation Heatmap"
      ],
      "metadata": {
        "id": "NC_X3p0fY2L0"
      }
    },
    {
      "cell_type": "code",
      "source": [
        "# Correlation Heatmap visualization code"
      ],
      "metadata": {
        "id": "xyC9zolEZNRQ"
      },
      "execution_count": null,
      "outputs": []
    },
    {
      "cell_type": "markdown",
      "source": [
        "##### 1. Why did you pick the specific chart?"
      ],
      "metadata": {
        "id": "UV0SzAkaZNRQ"
      }
    },
    {
      "cell_type": "markdown",
      "source": [
        "Answer Here."
      ],
      "metadata": {
        "id": "DVPuT8LYZNRQ"
      }
    },
    {
      "cell_type": "markdown",
      "source": [
        "##### 2. What is/are the insight(s) found from the chart?"
      ],
      "metadata": {
        "id": "YPEH6qLeZNRQ"
      }
    },
    {
      "cell_type": "markdown",
      "source": [
        "Answer Here"
      ],
      "metadata": {
        "id": "bfSqtnDqZNRR"
      }
    },
    {
      "cell_type": "markdown",
      "source": [
        "#### Chart - 15 - Pair Plot "
      ],
      "metadata": {
        "id": "q29F0dvdveiT"
      }
    },
    {
      "cell_type": "code",
      "source": [
        "# Pair Plot visualization code"
      ],
      "metadata": {
        "id": "o58-TEIhveiU"
      },
      "execution_count": null,
      "outputs": []
    },
    {
      "cell_type": "markdown",
      "source": [
        "##### 1. Why did you pick the specific chart?"
      ],
      "metadata": {
        "id": "EXh0U9oCveiU"
      }
    },
    {
      "cell_type": "markdown",
      "source": [
        "Answer Here."
      ],
      "metadata": {
        "id": "eMmPjTByveiU"
      }
    },
    {
      "cell_type": "markdown",
      "source": [
        "##### 2. What is/are the insight(s) found from the chart?"
      ],
      "metadata": {
        "id": "22aHeOlLveiV"
      }
    },
    {
      "cell_type": "markdown",
      "source": [
        "Answer Here"
      ],
      "metadata": {
        "id": "uPQ8RGwHveiV"
      }
    },
    {
      "cell_type": "markdown",
      "source": [
        "## ***5. Hypothesis Testing***"
      ],
      "metadata": {
        "id": "g-ATYxFrGrvw"
      }
    },
    {
      "cell_type": "markdown",
      "source": [
        "### Based on your chart experiments, define three hypothetical statements from the dataset. In the next three questions, perform hypothesis testing to obtain final conclusion about the statements through your code and statistical testing."
      ],
      "metadata": {
        "id": "Yfr_Vlr8HBkt"
      }
    },
    {
      "cell_type": "markdown",
      "source": [
        "Answer Here."
      ],
      "metadata": {
        "id": "-7MS06SUHkB-"
      }
    },
    {
      "cell_type": "markdown",
      "source": [
        "### Hypothetical Statement - 1"
      ],
      "metadata": {
        "id": "8yEUt7NnHlrM"
      }
    },
    {
      "cell_type": "markdown",
      "source": [
        "#### 1. State Your research hypothesis as a null hypothesis and alternate hypothesis."
      ],
      "metadata": {
        "id": "tEA2Xm5dHt1r"
      }
    },
    {
      "cell_type": "markdown",
      "source": [
        "Answer Here."
      ],
      "metadata": {
        "id": "HI9ZP0laH0D-"
      }
    },
    {
      "cell_type": "markdown",
      "source": [
        "#### 2. Perform an appropriate statistical test."
      ],
      "metadata": {
        "id": "I79__PHVH19G"
      }
    },
    {
      "cell_type": "code",
      "source": [
        "# Perform Statistical Test to obtain P-Value"
      ],
      "metadata": {
        "id": "oZrfquKtyian"
      },
      "execution_count": null,
      "outputs": []
    },
    {
      "cell_type": "markdown",
      "source": [
        "##### Which statistical test have you done to obtain P-Value?"
      ],
      "metadata": {
        "id": "Ou-I18pAyIpj"
      }
    },
    {
      "cell_type": "markdown",
      "source": [
        "Answer Here."
      ],
      "metadata": {
        "id": "s2U0kk00ygSB"
      }
    },
    {
      "cell_type": "markdown",
      "source": [
        "##### Why did you choose the specific statistical test?"
      ],
      "metadata": {
        "id": "fF3858GYyt-u"
      }
    },
    {
      "cell_type": "markdown",
      "source": [
        "Answer Here."
      ],
      "metadata": {
        "id": "HO4K0gP5y3B4"
      }
    },
    {
      "cell_type": "markdown",
      "source": [
        "### Hypothetical Statement - 2"
      ],
      "metadata": {
        "id": "4_0_7-oCpUZd"
      }
    },
    {
      "cell_type": "markdown",
      "source": [
        "#### 1. State Your research hypothesis as a null hypothesis and alternate hypothesis."
      ],
      "metadata": {
        "id": "hwyV_J3ipUZe"
      }
    },
    {
      "cell_type": "markdown",
      "source": [
        "Answer Here."
      ],
      "metadata": {
        "id": "FnpLGJ-4pUZe"
      }
    },
    {
      "cell_type": "markdown",
      "source": [
        "#### 2. Perform an appropriate statistical test."
      ],
      "metadata": {
        "id": "3yB-zSqbpUZe"
      }
    },
    {
      "cell_type": "code",
      "source": [
        "# Perform Statistical Test to obtain P-Value"
      ],
      "metadata": {
        "id": "sWxdNTXNpUZe"
      },
      "execution_count": null,
      "outputs": []
    },
    {
      "cell_type": "markdown",
      "source": [
        "##### Which statistical test have you done to obtain P-Value?"
      ],
      "metadata": {
        "id": "dEUvejAfpUZe"
      }
    },
    {
      "cell_type": "markdown",
      "source": [
        "Answer Here."
      ],
      "metadata": {
        "id": "oLDrPz7HpUZf"
      }
    },
    {
      "cell_type": "markdown",
      "source": [
        "##### Why did you choose the specific statistical test?"
      ],
      "metadata": {
        "id": "Fd15vwWVpUZf"
      }
    },
    {
      "cell_type": "markdown",
      "source": [
        "Answer Here."
      ],
      "metadata": {
        "id": "4xOGYyiBpUZf"
      }
    },
    {
      "cell_type": "markdown",
      "source": [
        "### Hypothetical Statement - 3"
      ],
      "metadata": {
        "id": "bn_IUdTipZyH"
      }
    },
    {
      "cell_type": "markdown",
      "source": [
        "#### 1. State Your research hypothesis as a null hypothesis and alternate hypothesis."
      ],
      "metadata": {
        "id": "49K5P_iCpZyH"
      }
    },
    {
      "cell_type": "markdown",
      "source": [
        "Answer Here."
      ],
      "metadata": {
        "id": "7gWI5rT9pZyH"
      }
    },
    {
      "cell_type": "markdown",
      "source": [
        "#### 2. Perform an appropriate statistical test."
      ],
      "metadata": {
        "id": "Nff-vKELpZyI"
      }
    },
    {
      "cell_type": "code",
      "source": [
        "# Perform Statistical Test to obtain P-Value"
      ],
      "metadata": {
        "id": "s6AnJQjtpZyI"
      },
      "execution_count": null,
      "outputs": []
    },
    {
      "cell_type": "markdown",
      "source": [
        "##### Which statistical test have you done to obtain P-Value?"
      ],
      "metadata": {
        "id": "kLW572S8pZyI"
      }
    },
    {
      "cell_type": "markdown",
      "source": [
        "Answer Here."
      ],
      "metadata": {
        "id": "ytWJ8v15pZyI"
      }
    },
    {
      "cell_type": "markdown",
      "source": [
        "##### Why did you choose the specific statistical test?"
      ],
      "metadata": {
        "id": "dWbDXHzopZyI"
      }
    },
    {
      "cell_type": "markdown",
      "source": [
        "Answer Here."
      ],
      "metadata": {
        "id": "M99G98V6pZyI"
      }
    },
    {
      "cell_type": "markdown",
      "source": [
        "## ***6. Feature Engineering & Data Pre-processing***"
      ],
      "metadata": {
        "id": "yLjJCtPM0KBk"
      }
    },
    {
      "cell_type": "markdown",
      "source": [
        "### 1. Handling Missing Values"
      ],
      "metadata": {
        "id": "xiyOF9F70UgQ"
      }
    },
    {
      "cell_type": "code",
      "source": [
        "# Handling Missing Values & Missing Value Imputation"
      ],
      "metadata": {
        "id": "iRsAHk1K0fpS"
      },
      "execution_count": null,
      "outputs": []
    },
    {
      "cell_type": "markdown",
      "source": [
        "#### What all missing value imputation techniques have you used and why did you use those techniques?"
      ],
      "metadata": {
        "id": "7wuGOrhz0itI"
      }
    },
    {
      "cell_type": "markdown",
      "source": [
        "Answer Here."
      ],
      "metadata": {
        "id": "1ixusLtI0pqI"
      }
    },
    {
      "cell_type": "markdown",
      "source": [
        "### 2. Handling Outliers"
      ],
      "metadata": {
        "id": "id1riN9m0vUs"
      }
    },
    {
      "cell_type": "code",
      "source": [
        "# Handling Outliers & Outlier treatments"
      ],
      "metadata": {
        "id": "M6w2CzZf04JK"
      },
      "execution_count": null,
      "outputs": []
    },
    {
      "cell_type": "markdown",
      "source": [
        "##### What all outlier treatment techniques have you used and why did you use those techniques?"
      ],
      "metadata": {
        "id": "578E2V7j08f6"
      }
    },
    {
      "cell_type": "markdown",
      "source": [
        "Answer Here."
      ],
      "metadata": {
        "id": "uGZz5OrT1HH-"
      }
    },
    {
      "cell_type": "markdown",
      "source": [
        "### 3. Categorical Encoding"
      ],
      "metadata": {
        "id": "89xtkJwZ18nB"
      }
    },
    {
      "cell_type": "code",
      "source": [
        "# Encode your categorical columns"
      ],
      "metadata": {
        "id": "21JmIYMG2hEo"
      },
      "execution_count": null,
      "outputs": []
    },
    {
      "cell_type": "markdown",
      "source": [
        "#### What all categorical encoding techniques have you used & why did you use those techniques?"
      ],
      "metadata": {
        "id": "67NQN5KX2AMe"
      }
    },
    {
      "cell_type": "markdown",
      "source": [
        "Answer Here."
      ],
      "metadata": {
        "id": "UDaue5h32n_G"
      }
    },
    {
      "cell_type": "markdown",
      "source": [
        "### 4. Textual Data Preprocessing \n",
        "(It's mandatory for textual dataset i.e., NLP, Sentiment Analysis, Text Clustering etc.)"
      ],
      "metadata": {
        "id": "Iwf50b-R2tYG"
      }
    },
    {
      "cell_type": "markdown",
      "source": [
        "#### 1. Expand Contraction"
      ],
      "metadata": {
        "id": "GMQiZwjn3iu7"
      }
    },
    {
      "cell_type": "code",
      "source": [
        "# Expand Contraction"
      ],
      "metadata": {
        "id": "PTouz10C3oNN"
      },
      "execution_count": null,
      "outputs": []
    },
    {
      "cell_type": "markdown",
      "source": [
        "#### 2. Lower Casing"
      ],
      "metadata": {
        "id": "WVIkgGqN3qsr"
      }
    },
    {
      "cell_type": "code",
      "source": [
        "# Lower Casing"
      ],
      "metadata": {
        "id": "88JnJ1jN3w7j"
      },
      "execution_count": null,
      "outputs": []
    },
    {
      "cell_type": "markdown",
      "source": [
        "#### 3. Removing Punctuations"
      ],
      "metadata": {
        "id": "XkPnILGE3zoT"
      }
    },
    {
      "cell_type": "code",
      "source": [
        "# Remove Punctuations"
      ],
      "metadata": {
        "id": "vqbBqNaA33c0"
      },
      "execution_count": null,
      "outputs": []
    },
    {
      "cell_type": "markdown",
      "source": [
        "#### 4. Removing URLs & Removing words and digits contain digits."
      ],
      "metadata": {
        "id": "Hlsf0x5436Go"
      }
    },
    {
      "cell_type": "code",
      "source": [
        "# Remove URLs & Remove words and digits contain digits"
      ],
      "metadata": {
        "id": "2sxKgKxu4Ip3"
      },
      "execution_count": null,
      "outputs": []
    },
    {
      "cell_type": "markdown",
      "source": [
        "#### 5. Removing Stopwords & Removing White spaces"
      ],
      "metadata": {
        "id": "mT9DMSJo4nBL"
      }
    },
    {
      "cell_type": "code",
      "source": [
        "# Remove Stopwords"
      ],
      "metadata": {
        "id": "T2LSJh154s8W"
      },
      "execution_count": null,
      "outputs": []
    },
    {
      "cell_type": "code",
      "source": [
        "# Remove White spaces"
      ],
      "metadata": {
        "id": "EgLJGffy4vm0"
      },
      "execution_count": null,
      "outputs": []
    },
    {
      "cell_type": "markdown",
      "source": [
        "#### 6. Rephrase Text"
      ],
      "metadata": {
        "id": "c49ITxTc407N"
      }
    },
    {
      "cell_type": "code",
      "source": [
        "# Rephrase Text"
      ],
      "metadata": {
        "id": "foqY80Qu48N2"
      },
      "execution_count": null,
      "outputs": []
    },
    {
      "cell_type": "markdown",
      "source": [
        "#### 7. Tokenization"
      ],
      "metadata": {
        "id": "OeJFEK0N496M"
      }
    },
    {
      "cell_type": "code",
      "source": [
        "# Tokenization"
      ],
      "metadata": {
        "id": "ijx1rUOS5CUU"
      },
      "execution_count": null,
      "outputs": []
    },
    {
      "cell_type": "markdown",
      "source": [
        "#### 8. Text Normalization"
      ],
      "metadata": {
        "id": "9ExmJH0g5HBk"
      }
    },
    {
      "cell_type": "code",
      "source": [
        "# Normalizing Text (i.e., Stemming, Lemmatization etc.)"
      ],
      "metadata": {
        "id": "AIJ1a-Zc5PY8"
      },
      "execution_count": null,
      "outputs": []
    },
    {
      "cell_type": "markdown",
      "source": [
        "##### Which text normalization technique have you used and why?"
      ],
      "metadata": {
        "id": "cJNqERVU536h"
      }
    },
    {
      "cell_type": "markdown",
      "source": [
        "Answer Here."
      ],
      "metadata": {
        "id": "Z9jKVxE06BC1"
      }
    },
    {
      "cell_type": "markdown",
      "source": [
        "#### 9. Part of speech tagging"
      ],
      "metadata": {
        "id": "k5UmGsbsOxih"
      }
    },
    {
      "cell_type": "code",
      "source": [
        "# POS Taging"
      ],
      "metadata": {
        "id": "btT3ZJBAO6Ik"
      },
      "execution_count": null,
      "outputs": []
    },
    {
      "cell_type": "markdown",
      "source": [
        "#### 10. Text Vectorization"
      ],
      "metadata": {
        "id": "T0VqWOYE6DLQ"
      }
    },
    {
      "cell_type": "code",
      "source": [
        "# Vectorizing Text"
      ],
      "metadata": {
        "id": "yBRtdhth6JDE"
      },
      "execution_count": null,
      "outputs": []
    },
    {
      "cell_type": "markdown",
      "source": [
        "##### Which text vectorization technique have you used and why?"
      ],
      "metadata": {
        "id": "qBMux9mC6MCf"
      }
    },
    {
      "cell_type": "markdown",
      "source": [
        "Answer Here."
      ],
      "metadata": {
        "id": "su2EnbCh6UKQ"
      }
    },
    {
      "cell_type": "markdown",
      "source": [
        "### 4. Feature Manipulation & Selection"
      ],
      "metadata": {
        "id": "-oLEiFgy-5Pf"
      }
    },
    {
      "cell_type": "markdown",
      "source": [
        "#### 1. Feature Manipulation"
      ],
      "metadata": {
        "id": "C74aWNz2AliB"
      }
    },
    {
      "cell_type": "code",
      "source": [
        "# Manipulate Features to minimize feature correlation and create new features"
      ],
      "metadata": {
        "id": "h1qC4yhBApWC"
      },
      "execution_count": null,
      "outputs": []
    },
    {
      "cell_type": "markdown",
      "source": [
        "#### 2. Feature Selection"
      ],
      "metadata": {
        "id": "2DejudWSA-a0"
      }
    },
    {
      "cell_type": "code",
      "source": [
        "# Select your features wisely to avoid overfitting"
      ],
      "metadata": {
        "id": "YLhe8UmaBCEE"
      },
      "execution_count": null,
      "outputs": []
    },
    {
      "cell_type": "markdown",
      "source": [
        "##### What all feature selection methods have you used  and why?"
      ],
      "metadata": {
        "id": "pEMng2IbBLp7"
      }
    },
    {
      "cell_type": "markdown",
      "source": [
        "Answer Here."
      ],
      "metadata": {
        "id": "rb2Lh6Z8BgGs"
      }
    },
    {
      "cell_type": "markdown",
      "source": [
        "##### Which all features you found important and why?"
      ],
      "metadata": {
        "id": "rAdphbQ9Bhjc"
      }
    },
    {
      "cell_type": "markdown",
      "source": [
        "Answer Here."
      ],
      "metadata": {
        "id": "fGgaEstsBnaf"
      }
    },
    {
      "cell_type": "markdown",
      "source": [
        "### 5. Data Transformation"
      ],
      "metadata": {
        "id": "TNVZ9zx19K6k"
      }
    },
    {
      "cell_type": "markdown",
      "source": [
        "#### Do you think that your data needs to be transformed? If yes, which transformation have you used. Explain Why?"
      ],
      "metadata": {
        "id": "nqoHp30x9hH9"
      }
    },
    {
      "cell_type": "code",
      "source": [
        "# Transform Your data"
      ],
      "metadata": {
        "id": "I6quWQ1T9rtH"
      },
      "execution_count": null,
      "outputs": []
    },
    {
      "cell_type": "markdown",
      "source": [
        "### 6. Data Scaling"
      ],
      "metadata": {
        "id": "rMDnDkt2B6du"
      }
    },
    {
      "cell_type": "code",
      "source": [
        "# Scaling your data"
      ],
      "metadata": {
        "id": "dL9LWpySC6x_"
      },
      "execution_count": null,
      "outputs": []
    },
    {
      "cell_type": "markdown",
      "source": [
        "##### Which method have you used to scale you data and why?"
      ],
      "metadata": {
        "id": "yiiVWRdJDDil"
      }
    },
    {
      "cell_type": "markdown",
      "source": [
        "### 7. Dimesionality Reduction"
      ],
      "metadata": {
        "id": "1UUpS68QDMuG"
      }
    },
    {
      "cell_type": "markdown",
      "source": [
        "##### Do you think that dimensionality reduction is needed? Explain Why?"
      ],
      "metadata": {
        "id": "kexQrXU-DjzY"
      }
    },
    {
      "cell_type": "markdown",
      "source": [
        "Answer Here."
      ],
      "metadata": {
        "id": "GGRlBsSGDtTQ"
      }
    },
    {
      "cell_type": "code",
      "source": [
        "# DImensionality Reduction (If needed)"
      ],
      "metadata": {
        "id": "kQfvxBBHDvCa"
      },
      "execution_count": null,
      "outputs": []
    },
    {
      "cell_type": "markdown",
      "source": [
        "##### Which dimensionality reduction technique have you used and why? (If dimensionality reduction done on dataset.)"
      ],
      "metadata": {
        "id": "T5CmagL3EC8N"
      }
    },
    {
      "cell_type": "markdown",
      "source": [
        "Answer Here."
      ],
      "metadata": {
        "id": "ZKr75IDuEM7t"
      }
    },
    {
      "cell_type": "markdown",
      "source": [
        "### 8. Data Splitting"
      ],
      "metadata": {
        "id": "BhH2vgX9EjGr"
      }
    },
    {
      "cell_type": "code",
      "source": [
        "# Split your data to train and test. Choose Splitting ratio wisely."
      ],
      "metadata": {
        "id": "0CTyd2UwEyNM"
      },
      "execution_count": null,
      "outputs": []
    },
    {
      "cell_type": "markdown",
      "source": [
        "##### What data splitting ratio have you used and why? "
      ],
      "metadata": {
        "id": "qjKvONjwE8ra"
      }
    },
    {
      "cell_type": "markdown",
      "source": [
        "Answer Here."
      ],
      "metadata": {
        "id": "Y2lJ8cobFDb_"
      }
    },
    {
      "cell_type": "markdown",
      "source": [
        "### 9. Handling Imbalanced Dataset"
      ],
      "metadata": {
        "id": "P1XJ9OREExlT"
      }
    },
    {
      "cell_type": "markdown",
      "source": [
        "##### Do you think the dataset is imbalanced? Explain Why."
      ],
      "metadata": {
        "id": "VFOzZv6IFROw"
      }
    },
    {
      "cell_type": "markdown",
      "source": [
        "Answer Here."
      ],
      "metadata": {
        "id": "GeKDIv7pFgcC"
      }
    },
    {
      "cell_type": "code",
      "source": [
        "# Handling Imbalanced Dataset (If needed)"
      ],
      "metadata": {
        "id": "nQsRhhZLFiDs"
      },
      "execution_count": null,
      "outputs": []
    },
    {
      "cell_type": "markdown",
      "source": [
        "##### What technique did you use to handle the imbalance dataset and why? (If needed to be balanced)"
      ],
      "metadata": {
        "id": "TIqpNgepFxVj"
      }
    },
    {
      "cell_type": "markdown",
      "source": [
        "Answer Here."
      ],
      "metadata": {
        "id": "qbet1HwdGDTz"
      }
    },
    {
      "cell_type": "markdown",
      "source": [
        "## ***7. ML Model Implementation***"
      ],
      "metadata": {
        "id": "VfCC591jGiD4"
      }
    },
    {
      "cell_type": "markdown",
      "source": [
        "### ML Model - 1"
      ],
      "metadata": {
        "id": "OB4l2ZhMeS1U"
      }
    },
    {
      "cell_type": "code",
      "source": [
        "# ML Model - 1 Implementation\n",
        "\n",
        "# Fit the Algorithm\n",
        "\n",
        "# Predict on the model"
      ],
      "metadata": {
        "id": "7ebyywQieS1U"
      },
      "execution_count": null,
      "outputs": []
    },
    {
      "cell_type": "markdown",
      "source": [
        "#### 1. Explain the ML Model used and it's performance using Evaluation metric Score Chart."
      ],
      "metadata": {
        "id": "ArJBuiUVfxKd"
      }
    },
    {
      "cell_type": "code",
      "source": [
        "# Visualizing evaluation Metric Score chart"
      ],
      "metadata": {
        "id": "rqD5ZohzfxKe"
      },
      "execution_count": null,
      "outputs": []
    },
    {
      "cell_type": "markdown",
      "source": [
        "#### 2. Cross- Validation & Hyperparameter Tuning"
      ],
      "metadata": {
        "id": "4qY1EAkEfxKe"
      }
    },
    {
      "cell_type": "code",
      "source": [
        "# ML Model - 1 Implementation with hyperparameter optimization techniques (i.e., GridSearch CV, RandomSearch CV, Bayesian Optimization etc.)\n",
        "\n",
        "# Fit the Algorithm\n",
        "\n",
        "# Predict on the model"
      ],
      "metadata": {
        "id": "Dy61ujd6fxKe"
      },
      "execution_count": null,
      "outputs": []
    },
    {
      "cell_type": "markdown",
      "source": [
        "##### Which hyperparameter optimization technique have you used and why?"
      ],
      "metadata": {
        "id": "PiV4Ypx8fxKe"
      }
    },
    {
      "cell_type": "markdown",
      "source": [
        "Answer Here."
      ],
      "metadata": {
        "id": "negyGRa7fxKf"
      }
    },
    {
      "cell_type": "markdown",
      "source": [
        "##### Have you seen any improvement? Note down the improvement with updates Evaluation metric Score Chart."
      ],
      "metadata": {
        "id": "TfvqoZmBfxKf"
      }
    },
    {
      "cell_type": "markdown",
      "source": [
        "Answer Here."
      ],
      "metadata": {
        "id": "OaLui8CcfxKf"
      }
    },
    {
      "cell_type": "markdown",
      "source": [
        "### ML Model - 2"
      ],
      "metadata": {
        "id": "dJ2tPlVmpsJ0"
      }
    },
    {
      "cell_type": "markdown",
      "source": [
        "#### 1. Explain the ML Model used and it's performance using Evaluation metric Score Chart."
      ],
      "metadata": {
        "id": "JWYfwnehpsJ1"
      }
    },
    {
      "cell_type": "code",
      "source": [
        "# Visualizing evaluation Metric Score chart"
      ],
      "metadata": {
        "id": "yEl-hgQWpsJ1"
      },
      "execution_count": null,
      "outputs": []
    },
    {
      "cell_type": "markdown",
      "source": [
        "#### 2. Cross- Validation & Hyperparameter Tuning"
      ],
      "metadata": {
        "id": "-jK_YjpMpsJ2"
      }
    },
    {
      "cell_type": "code",
      "source": [
        "# ML Model - 1 Implementation with hyperparameter optimization techniques (i.e., GridSearch CV, RandomSearch CV, Bayesian Optimization etc.)\n",
        "\n",
        "# Fit the Algorithm\n",
        "\n",
        "# Predict on the model"
      ],
      "metadata": {
        "id": "Dn0EOfS6psJ2"
      },
      "execution_count": null,
      "outputs": []
    },
    {
      "cell_type": "markdown",
      "source": [
        "##### Which hyperparameter optimization technique have you used and why?"
      ],
      "metadata": {
        "id": "HAih1iBOpsJ2"
      }
    },
    {
      "cell_type": "markdown",
      "source": [
        "Answer Here."
      ],
      "metadata": {
        "id": "9kBgjYcdpsJ2"
      }
    },
    {
      "cell_type": "markdown",
      "source": [
        "##### Have you seen any improvement? Note down the improvement with updates Evaluation metric Score Chart."
      ],
      "metadata": {
        "id": "zVGeBEFhpsJ2"
      }
    },
    {
      "cell_type": "markdown",
      "source": [
        "Answer Here."
      ],
      "metadata": {
        "id": "74yRdG6UpsJ3"
      }
    },
    {
      "cell_type": "markdown",
      "source": [
        "#### 3. Explain each evaluation metric's indication towards business and the business impact pf the ML model used."
      ],
      "metadata": {
        "id": "bmKjuQ-FpsJ3"
      }
    },
    {
      "cell_type": "markdown",
      "source": [
        "Answer Here."
      ],
      "metadata": {
        "id": "BDKtOrBQpsJ3"
      }
    },
    {
      "cell_type": "markdown",
      "source": [
        "### ML Model - 3"
      ],
      "metadata": {
        "id": "Fze-IPXLpx6K"
      }
    },
    {
      "cell_type": "code",
      "source": [
        "# ML Model - 3 Implementation\n",
        "\n",
        "# Fit the Algorithm\n",
        "\n",
        "# Predict on the model"
      ],
      "metadata": {
        "id": "FFrSXAtrpx6M"
      },
      "execution_count": null,
      "outputs": []
    },
    {
      "cell_type": "markdown",
      "source": [
        "#### 1. Explain the ML Model used and it's performance using Evaluation metric Score Chart."
      ],
      "metadata": {
        "id": "7AN1z2sKpx6M"
      }
    },
    {
      "cell_type": "code",
      "source": [
        "# Visualizing evaluation Metric Score chart"
      ],
      "metadata": {
        "id": "xIY4lxxGpx6M"
      },
      "execution_count": null,
      "outputs": []
    },
    {
      "cell_type": "markdown",
      "source": [
        "#### 2. Cross- Validation & Hyperparameter Tuning"
      ],
      "metadata": {
        "id": "9PIHJqyupx6M"
      }
    },
    {
      "cell_type": "code",
      "source": [
        "# ML Model - 3 Implementation with hyperparameter optimization techniques (i.e., GridSearch CV, RandomSearch CV, Bayesian Optimization etc.)\n",
        "\n",
        "# Fit the Algorithm\n",
        "\n",
        "# Predict on the model"
      ],
      "metadata": {
        "id": "eSVXuaSKpx6M"
      },
      "execution_count": null,
      "outputs": []
    },
    {
      "cell_type": "markdown",
      "source": [
        "##### Which hyperparameter optimization technique have you used and why?"
      ],
      "metadata": {
        "id": "_-qAgymDpx6N"
      }
    },
    {
      "cell_type": "markdown",
      "source": [
        "Answer Here."
      ],
      "metadata": {
        "id": "lQMffxkwpx6N"
      }
    },
    {
      "cell_type": "markdown",
      "source": [
        "##### Have you seen any improvement? Note down the improvement with updates Evaluation metric Score Chart."
      ],
      "metadata": {
        "id": "Z-hykwinpx6N"
      }
    },
    {
      "cell_type": "markdown",
      "source": [
        "Answer Here."
      ],
      "metadata": {
        "id": "MzVzZC6opx6N"
      }
    },
    {
      "cell_type": "markdown",
      "source": [
        "### 1. Which Evaluation metrics did you consider for a positive business impact and why?"
      ],
      "metadata": {
        "id": "h_CCil-SKHpo"
      }
    },
    {
      "cell_type": "markdown",
      "source": [
        "Answer Here."
      ],
      "metadata": {
        "id": "jHVz9hHDKFms"
      }
    },
    {
      "cell_type": "markdown",
      "source": [
        "### 2. Which ML model did you choose from the above created models as your final prediction model and why?"
      ],
      "metadata": {
        "id": "cBFFvTBNJzUa"
      }
    },
    {
      "cell_type": "markdown",
      "source": [
        "Answer Here."
      ],
      "metadata": {
        "id": "6ksF5Q1LKTVm"
      }
    },
    {
      "cell_type": "markdown",
      "source": [
        "### 3. Explain the model which you have used and the feature importance using any model explainability tool?"
      ],
      "metadata": {
        "id": "HvGl1hHyA_VK"
      }
    },
    {
      "cell_type": "markdown",
      "source": [
        "Answer Here."
      ],
      "metadata": {
        "id": "YnvVTiIxBL-C"
      }
    },
    {
      "cell_type": "markdown",
      "source": [
        "## ***8.*** ***Future Work (Optional)***"
      ],
      "metadata": {
        "id": "EyNgTHvd2WFk"
      }
    },
    {
      "cell_type": "markdown",
      "source": [
        "### 1. Save the best performing ml model in a pickle file or joblib file format for deployment process.\n"
      ],
      "metadata": {
        "id": "KH5McJBi2d8v"
      }
    },
    {
      "cell_type": "code",
      "source": [
        "# Save the File"
      ],
      "metadata": {
        "id": "bQIANRl32f4J"
      },
      "execution_count": null,
      "outputs": []
    },
    {
      "cell_type": "markdown",
      "source": [
        "### 2. Again Load the saved model file and try to predict unseen data for a sanity check.\n"
      ],
      "metadata": {
        "id": "iW_Lq9qf2h6X"
      }
    },
    {
      "cell_type": "code",
      "source": [
        "# Load the File and predict unseen data."
      ],
      "metadata": {
        "id": "oEXk9ydD2nVC"
      },
      "execution_count": null,
      "outputs": []
    },
    {
      "cell_type": "markdown",
      "source": [
        "### ***Congrats! Your model is successfully created and ready for deployment on a live server for a real user interaction !!!***"
      ],
      "metadata": {
        "id": "-Kee-DAl2viO"
      }
    },
    {
      "cell_type": "markdown",
      "source": [
        "# **Conclusion**"
      ],
      "metadata": {
        "id": "gCX9965dhzqZ"
      }
    },
    {
      "cell_type": "markdown",
      "source": [
        "Write the conclusion here."
      ],
      "metadata": {
        "id": "Fjb1IsQkh3yE"
      }
    },
    {
      "cell_type": "markdown",
      "source": [
        "### ***Hurrah! You have successfully completed your Machine Learning Capstone Project !!!***"
      ],
      "metadata": {
        "id": "gIfDvo9L0UH2"
      }
    }
  ]
}